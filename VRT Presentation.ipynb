{
 "cells": [
  {
   "cell_type": "code",
   "execution_count": 1,
   "metadata": {
    "collapsed": false,
    "slideshow": {
     "slide_type": "skip"
    }
   },
   "outputs": [
    {
     "data": {
      "text/plain": [
       "{'scroll': True,\n",
       " 'start_slideshow_at': 'selected',\n",
       " 'theme': 'Simple',\n",
       " 'transition': 'slide'}"
      ]
     },
     "execution_count": 1,
     "metadata": {},
     "output_type": "execute_result"
    }
   ],
   "source": [
    "eyes_api_key = '';\n",
    "\n",
    "from traitlets.config.manager import BaseJSONConfigManager\n",
    "path = \"C:\\\\Users\\\\stanrogo\\\\Anaconda3\\\\etc\\\\jupyter\\\\nbconfig\"\n",
    "cm = BaseJSONConfigManager(config_dir=path)\n",
    "cm.update('livereveal', {\n",
    "              'theme': 'Simple',\n",
    "              'transition': 'slide',\n",
    "              'scroll': True\n",
    "})"
   ]
  },
  {
   "cell_type": "markdown",
   "metadata": {
    "collapsed": true,
    "slideshow": {
     "slide_type": "slide"
    }
   },
   "source": [
    "# Integrating Visual Regression Tests in Your Development Life Cycle\n",
    "## By Stanley Clark\n",
    "\n",
    "<img src=\"images/studyportals.png\" style=\"margin: 0 auto; padding: 6rem 0 0 0;\"/>"
   ]
  },
  {
   "cell_type": "markdown",
   "metadata": {
    "slideshow": {
     "slide_type": "slide"
    }
   },
   "source": [
    "# About Me\n",
    "\n",
    "* Stanley Clark\n",
    "* Front-end Web Engineer @ StudyPortals (1.5 years)\n",
    "* Studying Computer Science & Engineering M.Sc.\n",
    "* Search Product Team\n",
    "* @stanrogo\n",
    "\n",
    "<img src=\"images/me.jpg\" alt=\"Drawing\" style=\"float:right;margin-top:-20vh;width: 200px;\"/>"
   ]
  },
  {
   "cell_type": "markdown",
   "metadata": {
    "slideshow": {
     "slide_type": "slide"
    }
   },
   "source": [
    "# Background Info\n",
    "\n",
    "* StudyPortals - Global Study Choice Platform\n",
    "* 5 scrum teams\n",
    "* Different products, shared codebase\n",
    "* PHP rendered templates with traditional JS UI\n",
    "* Continuous integration present\n",
    "* Continuous delivery is being implemented"
   ]
  },
  {
   "cell_type": "markdown",
   "metadata": {
    "slideshow": {
     "slide_type": "slide"
    }
   },
   "source": [
    "# The Plan For Today\n",
    "\n",
    "* Regression Testing Motivation\n",
    "* Process Implementation At StudyPortals\n",
    "* Thinking Outside Of The Code\n",
    "\n",
    "And a few code examples along the way!\n",
    "Slides are posted at https://stanrogo.com/vrt"
   ]
  },
  {
   "cell_type": "markdown",
   "metadata": {
    "slideshow": {
     "slide_type": "slide"
    }
   },
   "source": [
    "# 1. Motivation"
   ]
  },
  {
   "cell_type": "markdown",
   "metadata": {
    "slideshow": {
     "slide_type": "subslide"
    }
   },
   "source": [
    "## human.capabilities !== computer.capabilities"
   ]
  },
  {
   "cell_type": "markdown",
   "metadata": {
    "slideshow": {
     "slide_type": "fragment"
    }
   },
   "source": [
    "<img src=\"images/spot_the_difference.jpg\"/>"
   ]
  },
  {
   "cell_type": "markdown",
   "metadata": {
    "slideshow": {
     "slide_type": "subslide"
    }
   },
   "source": [
    "## Obvious Changes Go Un-noticed"
   ]
  },
  {
   "cell_type": "markdown",
   "metadata": {
    "slideshow": {
     "slide_type": "fragment"
    }
   },
   "source": [
    "Example: Derren Brown's \"Person Swap\"\n",
    "<img src=\"images/derren_brown.png\"/>"
   ]
  },
  {
   "cell_type": "markdown",
   "metadata": {
    "slideshow": {
     "slide_type": "subslide"
    }
   },
   "source": [
    "## What Are Regression Tests?"
   ]
  },
  {
   "cell_type": "markdown",
   "metadata": {
    "slideshow": {
     "slide_type": "fragment"
    }
   },
   "source": [
    ">\"A type of software testing which verifies that software which was previously developed and tested still performs correctly after it was changed or interfaced with other software\""
   ]
  },
  {
   "cell_type": "markdown",
   "metadata": {
    "slideshow": {
     "slide_type": "fragment"
    }
   },
   "source": [
    "**Visual** Regression Tests in essence ensure that you don't screw up your site by accident.\n",
    "\n",
    "Tests take screenshots of areas or pages of your site, compare those against a baseline and fail when things change."
   ]
  },
  {
   "cell_type": "markdown",
   "metadata": {
    "slideshow": {
     "slide_type": "subslide"
    }
   },
   "source": [
    "## Why Visual Regression Testing At StudyPortals?"
   ]
  },
  {
   "cell_type": "markdown",
   "metadata": {
    "slideshow": {
     "slide_type": "fragment"
    }
   },
   "source": [
    "### Unit Testing Didn't Invoke Enough Value\n",
    "* Templates generated via php -> computation also\n",
    "* Few modules with exclusively non-DOM operations\n",
    "* Doesn't check for usability -> Somebody could have added body{opacity: 0} and you wouldn't know"
   ]
  },
  {
   "cell_type": "markdown",
   "metadata": {
    "slideshow": {
     "slide_type": "fragment"
    }
   },
   "source": [
    "### Visual Bugs From Cross Team Work Released Too Often"
   ]
  },
  {
   "cell_type": "markdown",
   "metadata": {
    "slideshow": {
     "slide_type": "subslide"
    }
   },
   "source": [
    ">But the tutorial told me this would be easy..."
   ]
  },
  {
   "cell_type": "markdown",
   "metadata": {
    "slideshow": {
     "slide_type": "slide"
    }
   },
   "source": [
    "# 2. Implementation In Our Organisation"
   ]
  },
  {
   "cell_type": "markdown",
   "metadata": {
    "slideshow": {
     "slide_type": "slide"
    }
   },
   "source": [
    "## 2.1. Desired Development Workflow\n",
    "\n",
    "1. Engineer makes some changes to the code and pushes them to a feature branch.\n",
    "2. Regression tests are run.\n",
    "3. Status is reported.\n",
    "4. Engineer accepts or rejects the new baseline.\n",
    "5. Engineer fixes issues if needed and repeats steps 1 - 3.\n",
    "6. Code is good to go and can be merged into the rest of the code base."
   ]
  },
  {
   "cell_type": "markdown",
   "metadata": {
    "slideshow": {
     "slide_type": "slide"
    }
   },
   "source": [
    "## 2.2. The Process - 1st Iteration\n",
    "\n",
    "1. Engineer makes some changes to the code and pushes them to a feature branch.\n",
    "2. Branch is merged.\n",
    "3. Regression tests are run automatically.\n",
    "4. Status is reported in Slack.\n",
    "5. Engineer accepts are rejects the new baseline.\n",
    "6. Engineer fixes issues if needed."
   ]
  },
  {
   "cell_type": "markdown",
   "metadata": {
    "slideshow": {
     "slide_type": "subslide"
    }
   },
   "source": [
    "### 2.2.1. Make Changes To Code And Push"
   ]
  },
  {
   "cell_type": "markdown",
   "metadata": {
    "slideshow": {
     "slide_type": "fragment"
    }
   },
   "source": [
    "Standard GitHub repository used\n",
    "<img src=\"images/github.png\" alt=\"Drawing\" style=\"float:right;width: 200px;\"/>"
   ]
  },
  {
   "cell_type": "markdown",
   "metadata": {
    "slideshow": {
     "slide_type": "subslide"
    }
   },
   "source": [
    "### 2.2.2. Merge Branch & Run Regression Test"
   ]
  },
  {
   "cell_type": "markdown",
   "metadata": {
    "slideshow": {
     "slide_type": "fragment"
    }
   },
   "source": [
    "* Using existing jenkins and docker infrastructure.\n",
    "* Detect a merge has been done and run tasks on a dedicated regression testing server.\n",
    "<img src=\"images/docker-jenkins.png\" alt=\"Drawing\" style=\"float:right;width: 200px;\"/>"
   ]
  },
  {
   "cell_type": "markdown",
   "metadata": {
    "slideshow": {
     "slide_type": "subslide"
    }
   },
   "source": [
    "#### 2.2.2.1. Tooling Used\n",
    "\n",
    "<div style=\"display:flex;margin: 0 auto; padding: 2rem 0;\">\n",
    "    <figure style=\"width: 25%; padding: 0 5rem 0 0; text-align: center;\">\n",
    "        <img src=\"images/ubuntu.svg\"/>\n",
    "        <figcaption style=\"line-height:1;\">Ubuntu Server</figcaption>\n",
    "    </figure>\n",
    "    <figure style=\"width: 25%; padding: 0 5rem 0 0; text-align: center;\">\n",
    "        <img src=\"images/phantomjs.png\"/>\n",
    "        <figcaption style=\"line-height:1;\">PhantomJS (and later Firefox) in headless mode.</figcaption>\n",
    "    </figure>\n",
    "    <figure style=\"width: 25%;padding: 0 5rem 0 0; text-align: center;\">\n",
    "        <img src=\"images/python.png\"/>\n",
    "        <figcaption style=\"line-height:1;\">Python Selenium Bindings</figcaption>\n",
    "    </figure>\n",
    "    <figure style=\"width: 25%;padding: 0 5rem 0 0; text-align: center;\">\n",
    "        <img src=\"images/applitools.png\"/>\n",
    "        <figcaption style=\"line-height:1;\">Applitools Eyes (By Attlasian)</figcaption>\n",
    "    </figure>\n",
    "</div>"
   ]
  },
  {
   "cell_type": "markdown",
   "metadata": {
    "slideshow": {
     "slide_type": "subslide"
    }
   },
   "source": [
    "### 2.2.2.2. Applitools Eyes\n",
    "\n",
    "* Paid service\n",
    "* Central dashboard to view all differences in one place\n",
    "* All image processing done on their servers -> speed\n",
    "* Support from JS, Python, Java, Ruby, as well as non-code direct browser support"
   ]
  },
  {
   "cell_type": "markdown",
   "metadata": {
    "slideshow": {
     "slide_type": "subslide"
    }
   },
   "source": [
    "#### 2.2.2.3. Simple VRT test demo"
   ]
  },
  {
   "cell_type": "code",
   "execution_count": 9,
   "metadata": {
    "collapsed": false,
    "slideshow": {
     "slide_type": "fragment"
    }
   },
   "outputs": [],
   "source": [
    "from selenium import webdriver\n",
    "from applitools.eyes import Eyes\n",
    "import time\n",
    "\n",
    "eyes = Eyes()\n",
    "eyes.api_key = eyes_api_key\n",
    "eyes.force_full_page_screenshot = False\n",
    "eyes.is_disabled = True"
   ]
  },
  {
   "cell_type": "markdown",
   "metadata": {
    "slideshow": {
     "slide_type": "subslide"
    }
   },
   "source": [
    "#### 2.2.2.3. Simple VRT test demo"
   ]
  },
  {
   "cell_type": "code",
   "execution_count": 10,
   "metadata": {
    "collapsed": false,
    "slideshow": {
     "slide_type": "fragment"
    }
   },
   "outputs": [],
   "source": [
    "    driver = webdriver.Firefox()\n",
    "    eyes.open(driver=driver, app_name='Masters Portal', test_name='Form validation',\n",
    "              viewport_size={'width': 1600, 'height': 800})\n",
    "    driver.get('https://www.mastersportal.eu/studies/5/')\n",
    "    register_button = driver.find_element_by_id(\"RegisterButton\").click()\n",
    "    login_placeholder = driver.find_element_by_id(\"LoginPlaceholderContainer\")\n",
    "    eyes.check_region_by_element(login_placeholder, 'Study #5 register view')\n",
    "    time.sleep(2)    \n",
    "    submit = driver.find_element_by_id(\"js-RegistrationButton\")\n",
    "    username = driver.find_element_by_id(\"authSignUpName\")\n",
    "    email = driver.find_element_by_id(\"authSignUpEmail\")\n",
    "    password = driver.find_element_by_id(\"authSignUpPassword\")\n",
    "    username.send_keys(\"John Doe\")\n",
    "    email.send_keys(\"test@email.nl\")\n",
    "    password.send_keys(\"testpassword\")\n",
    "    submit.click()\n",
    "    eyes.check_region_by_element(login_placeholder, 'Study #5 register view - submit form')\n",
    "    time.sleep(2)\n",
    "    login_view = driver.find_element_by_css_selector(\"li[data-action=\\\"in\\\"]\")\n",
    "    login_view.click()\n",
    "    driver.find_element_by_css_selector(\"li[data-action=\\\"in\\\"]\")\n",
    "    eyes.check_region_by_element(login_placeholder, 'Study #5 login view')\n",
    "    eyes.close()"
   ]
  },
  {
   "cell_type": "markdown",
   "metadata": {
    "slideshow": {
     "slide_type": "subslide"
    }
   },
   "source": [
    "### 2.2.3. Output is reported in Slack\n",
    "\n",
    "Use the slack API to send messages to a specific channel, and tag the user while doing it.\n",
    "<img src=\"images/slack.svg\" alt=\"Drawing\" style=\"float:right;width: 200px;\"/>"
   ]
  },
  {
   "cell_type": "markdown",
   "metadata": {
    "slideshow": {
     "slide_type": "subslide"
    }
   },
   "source": [
    "### 2.2.4. Developer Accepts or rejects baselines\n",
    "\n",
    "A few things to take into account:\n",
    "\n",
    "* Is the failing test caused by another team?\n",
    "* Is the passing test caused by your changes not actually working?\n",
    "* If something has been failing due to its dynamicity, perhaps rethink the test."
   ]
  },
  {
   "cell_type": "markdown",
   "metadata": {
    "slideshow": {
     "slide_type": "subslide"
    }
   },
   "source": [
    "#### 2.2.4.1. When Changes Are OK\n",
    "<img src=\"images/change-ok.png\" alt=\"Drawing\"/>"
   ]
  },
  {
   "cell_type": "markdown",
   "metadata": {
    "slideshow": {
     "slide_type": "subslide"
    }
   },
   "source": [
    "#### 2.2.4.2. When  Changes Are Not OK\n",
    "<img src=\"images/change-bad.png\" alt=\"Drawing\"/>"
   ]
  },
  {
   "cell_type": "markdown",
   "metadata": {
    "slideshow": {
     "slide_type": "subslide"
    }
   },
   "source": [
    "#### 2.2.4.3. Defects Caught"
   ]
  },
  {
   "cell_type": "markdown",
   "metadata": {
    "slideshow": {
     "slide_type": "fragment"
    }
   },
   "source": [
    "* Description on search results was no longer being trimmed\n",
    "* Search box in the nav bar was displaying incorrectly on some devices after introduction of Post CSS\n",
    "* Testing login details not working (impedes testing on actual devices)\n",
    "* Currency not displaying correctly due to JavaScript breaking\n",
    "* And more..."
   ]
  },
  {
   "cell_type": "markdown",
   "metadata": {
    "slideshow": {
     "slide_type": "subslide"
    }
   },
   "source": [
    "#### 2.2.4.4. Not Quite Good Enough"
   ]
  },
  {
   "cell_type": "markdown",
   "metadata": {
    "slideshow": {
     "slide_type": "slide"
    }
   },
   "source": [
    "## 2.3. The Process - 2nd Iteration\n",
    "\n",
    "1. Engineer makes some changes to the code and pushes them to a feature branch.\n",
    "2. **Engineer makes n commits and creates a pull request.**\n",
    "3. **When ready to merge**, mark as \"to test\" and regression tests are run.\n",
    "4. Status is reported **in GitHub**.\n",
    "4. Engineer accepts or rejects the new baseline.\n",
    "5. If needed, engineer fixes issues and repeats steps 1 - 4.\n",
    "6. Code is good to go and can be merged into the rest of the code base."
   ]
  },
  {
   "cell_type": "markdown",
   "metadata": {
    "slideshow": {
     "slide_type": "subslide"
    }
   },
   "source": [
    "### 2.3.1. When ready to merge, mark as \"to test\" and regression tests are run\n",
    "<img src=\"images/test-label.png\" alt=\"Drawing\"/>"
   ]
  },
  {
   "cell_type": "markdown",
   "metadata": {
    "slideshow": {
     "slide_type": "subslide"
    }
   },
   "source": [
    "### 2.3.2. Status is reported in GitHub\n",
    "<img src=\"images/running-test2.png\" alt=\"Drawing\"/>"
   ]
  },
  {
   "cell_type": "markdown",
   "metadata": {
    "slideshow": {
     "slide_type": "slide"
    }
   },
   "source": [
    "# 3. Thinking Outside Of The Code"
   ]
  },
  {
   "cell_type": "markdown",
   "metadata": {
    "slideshow": {
     "slide_type": "subslide"
    }
   },
   "source": [
    "## 3.1. Cross Browser Testing\n",
    "\n",
    "* Currently only running tests on Firefox\n",
    "* Future adds Chrome to the mix\n",
    "* Testing Multiple browsers adds review time and increases price\n",
    "* IE and Safari testing hard to achieve on Ubuntu"
   ]
  },
  {
   "cell_type": "markdown",
   "metadata": {
    "slideshow": {
     "slide_type": "subslide"
    }
   },
   "source": [
    "## 3.2. Strictness Levels\n",
    "VRT is not a one-size fits all solution. There are different solutions for different needs:\n",
    "\n",
    "* Exact Match\n",
    "* Layout\n",
    "* Content"
   ]
  },
  {
   "cell_type": "markdown",
   "metadata": {
    "slideshow": {
     "slide_type": "subslide"
    }
   },
   "source": [
    "## 3.3. Keeping Scope Of Written Tests\n",
    "\n",
    "* What exactly do you tests?\n",
    "* How to make sure tests overlap as little as possible?\n",
    "* Mindset of testing the visuals, rather than the functionality.\n",
    "* If a targetting class changes, or something breaks, action needs to be taken by someone?"
   ]
  },
  {
   "cell_type": "markdown",
   "metadata": {
    "slideshow": {
     "slide_type": "subslide"
    }
   },
   "source": [
    "## 3.4. It's not perfect..."
   ]
  },
  {
   "cell_type": "markdown",
   "metadata": {
    "slideshow": {
     "slide_type": "slide"
    }
   },
   "source": [
    "# 4. Tooling For The Job\n",
    "\n",
    "Many solutions available out there. We used applitools in this demo.\n",
    "You can use other tooling based on your requirements. Some notable ones are:\n",
    "\n",
    "* BBC News Wraith https://github.com/BBC-News/wraith\n",
    "* Backstop JS to locally integrate with Gulp or Grunt https://github.com/garris/BackstopJS\n",
    "* Percy https://percy.io/"
   ]
  },
  {
   "cell_type": "markdown",
   "metadata": {
    "slideshow": {
     "slide_type": "slide"
    }
   },
   "source": [
    "# 5. #TLDR;\n",
    "\n",
    "* Visual Regression Testing is more accurate than manual testing by humans\n",
    "* Unit testing is neither the only solution nor sometimes the most valuable\n",
    "* Infrastructure is easy to set up in your existing continuous integration environment\n",
    "* Plenty of visual diff solutions available, chooseone which suits you best\n",
    "* Non code aspects are the trickiest to get right"
   ]
  },
  {
   "cell_type": "markdown",
   "metadata": {
    "slideshow": {
     "slide_type": "fragment"
    }
   },
   "source": [
    "To start playing, just install selenium for python and get a free applitools account!"
   ]
  },
  {
   "cell_type": "markdown",
   "metadata": {
    "slideshow": {
     "slide_type": "slide"
    }
   },
   "source": [
    "<center> <h1>Questions?</h1> </center>\n",
    "<img src=\"images/studyportals.png\" style=\"margin: 0 auto; padding: 6rem 0 0 0;\"/>"
   ]
  }
 ],
 "metadata": {
  "celltoolbar": "Slideshow",
  "kernelspec": {
   "display_name": "Python 3",
   "language": "python",
   "name": "python3"
  },
  "language_info": {
   "codemirror_mode": {
    "name": "ipython",
    "version": 3
   },
   "file_extension": ".py",
   "mimetype": "text/x-python",
   "name": "python",
   "nbconvert_exporter": "python",
   "pygments_lexer": "ipython3",
   "version": "3.6.0"
  }
 },
 "nbformat": 4,
 "nbformat_minor": 2
}
